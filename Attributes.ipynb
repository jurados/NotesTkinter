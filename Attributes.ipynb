{
 "cells": [
  {
   "cell_type": "markdown",
   "metadata": {},
   "source": [
    "# Attributes\n",
    "\n",
    "Attributes are constructor used to build widgets in Tkinter.\n",
    "\n",
    "Ther are properties that are used to define visual apparence on the screen and how they respond to user events or actions.\n",
    "\n",
    "Somme attributes can be used with any widget, whereas others are specific to some widgets."
   ]
  },
  {
   "cell_type": "code",
   "execution_count": 2,
   "metadata": {},
   "outputs": [],
   "source": [
    "import tkinter as tk"
   ]
  },
  {
   "cell_type": "code",
   "execution_count": 6,
   "metadata": {},
   "outputs": [],
   "source": [
    "root = tk.Tk()\n",
    "root.title('My first Tkinter Application')\n",
    "root.minsize(300,200)\n",
    "\n",
    "tk.Label(root, activebackground='royalblue').pack()\n",
    "tk.Canvas(root)\n",
    "\n",
    "root.mainloop()"
   ]
  },
  {
   "cell_type": "markdown",
   "metadata": {},
   "source": [
    "The default in Tkinter measurement units are the pixels. However, Tkinter supports other measurement units like millimeters, centimeters, inches, and so on, as well."
   ]
  },
  {
   "cell_type": "code",
   "execution_count": 7,
   "metadata": {},
   "outputs": [],
   "source": [
    "root = tk.Tk()\n",
    "root.title('Dimensions in Tkinter')\n",
    "root.minsize(300,200)\n",
    "\n",
    "tk.Message(root, text=\"\"\"Lorem ipsum dolor sit amet, consectetur adipiscing elit. Etiam a lacus congue,\\\n",
    "           fermentum ipsum at, mattis arcu. Sed quam ante, bibendum non mi nec, malesuada euismod \\\n",
    "           nisl\"\"\",\n",
    "           width=\"50c\" #c: used to cm\n",
    "           ).pack()\n",
    "tk.Message(root, text=\"\"\"Lorem ipsum dolor sit amet, consectetur adipiscing elit. Etiam a lacus congue,\\\n",
    "           fermentum ipsum at, mattis arcu. Sed quam ante, bibendum non mi nec, malesuada euismod \\\n",
    "           nisl\"\"\",\n",
    "           width=\"50i\" #i: used to inches\n",
    "           ).pack()\n",
    "tk.Message(root, text=\"\"\"Lorem ipsum dolor sit amet, consectetur adipiscing elit. Etiam a lacus congue,\\\n",
    "           fermentum ipsum at, mattis arcu. Sed quam ante, bibendum non mi nec, malesuada euismod \\\n",
    "           nisl\"\"\",\n",
    "           width=\"50m\" #m: used to cm\n",
    "           ).pack()\n",
    "\n",
    "root.mainloop()"
   ]
  },
  {
   "cell_type": "markdown",
   "metadata": {},
   "source": [
    "Change the `colors`."
   ]
  },
  {
   "cell_type": "code",
   "execution_count": 12,
   "metadata": {},
   "outputs": [],
   "source": [
    "root = tk.Tk()\n",
    "root.title('Colors in Tkinter')\n",
    "root.minsize(300,200)\n",
    "\n",
    "tk.Button(root, text='Colors', bg='red').pack()\n",
    "tk.Button(root, text='Colors', fg='red').pack()\n",
    "tk.Button(root, text='Colors', activebackground='red').pack()\n",
    "tk.Button(root, text='Colors', activeforeground='red').pack()\n",
    "tk.Button(root, text='Colors', disabledforeground='red',state='disable').pack()\n",
    "\n",
    "root.mainloop()"
   ]
  },
  {
   "cell_type": "markdown",
   "metadata": {},
   "source": [
    "Change the `fonts`."
   ]
  },
  {
   "cell_type": "code",
   "execution_count": 16,
   "metadata": {},
   "outputs": [],
   "source": [
    "from tkinter.font import Font\n",
    "\n",
    "root = tk.Tk()\n",
    "root.title('Fonts in Tkinter')\n",
    "root.minsize(300,200)\n",
    "\n",
    "font_1 = Font(\n",
    "    family='helvetic',\n",
    "    size=18,\n",
    "    weight='bold',\n",
    "    slant='italic',\n",
    "    underline=1,\n",
    "    overstrike=1\n",
    ")\n",
    "\n",
    "font_2 = Font(family='helvetic', size=14, weight='bold', slant='roman', underline=0, overstrike=0)\n",
    "\n",
    "tk.Label(root, text='Hello Tkinter!',\n",
    "         font=(\"Times\",20), # font=(family, Size)\n",
    "         ).pack()\n",
    "tk.Label(root, text='Hello Tkinter!', font=font_1).pack()\n",
    "tk.Label(root, text='Hello Tkinter!', font=font_2).pack()\n",
    "\n",
    "\n",
    "root.mainloop()"
   ]
  },
  {
   "cell_type": "markdown",
   "metadata": {},
   "source": [
    "Costume the `anchors`.\n",
    "\n",
    "| Value  | Meaning    | Value  | Meaning    |\n",
    "|:------:|:----------:|:------:|:----------:|\n",
    "| n      | North      | e      | East       |\n",
    "| nw     | North West | sw     | South West |\n",
    "| ne     | North East | s      | South      |\n",
    "| w      | West       | se     | South East |\n",
    "| Center | Center     | x       | x  |"
   ]
  },
  {
   "cell_type": "code",
   "execution_count": 17,
   "metadata": {},
   "outputs": [],
   "source": [
    "root = tk.Tk()\n",
    "root.title('Costumizing Anchor widget in Tkinter')\n",
    "root.minsize(300,200)\n",
    "\n",
    "frame = tk.Frame(root).pack()\n",
    "tk.Label(frame, text='North').pack(anchor='nw')\n",
    "\n",
    "root.mainloop()"
   ]
  },
  {
   "cell_type": "markdown",
   "metadata": {},
   "source": [
    "Using the `reliefs`."
   ]
  },
  {
   "cell_type": "code",
   "execution_count": 19,
   "metadata": {},
   "outputs": [],
   "source": [
    "import random\n",
    "\n",
    "root = tk.Tk()\n",
    "root.title('Costumizing Anchor widget in Tkinter')\n",
    "root.minsize(300,200)\n",
    "\n",
    "def relief():\n",
    "    \n",
    "    rel = ['raised', 'sunken', 'flat', 'groove', 'ridge']\n",
    "    if btn['relief'] in rel:\n",
    "        i = random.randint(0,len(rel)-1)\n",
    "        btn.config(relief=rel[i])\n",
    "        btn.config(text=rel[i])\n",
    "\n",
    "btn = tk.Button(root, text='Raised',\n",
    "                relief='raised', command=relief)\n",
    "btn.pack()\n",
    "\n",
    "root.mainloop()"
   ]
  },
  {
   "cell_type": "markdown",
   "metadata": {},
   "source": [
    "Using the `bitmaps`."
   ]
  },
  {
   "cell_type": "code",
   "execution_count": 26,
   "metadata": {},
   "outputs": [],
   "source": [
    "import random\n",
    "\n",
    "root = tk.Tk()\n",
    "root.title('Costumizing Anchor widget in Tkinter')\n",
    "root.minsize(300,200)\n",
    "\n",
    "def on_click():\n",
    "    \n",
    "    bmp = ['error', 'gray25', 'gray50', 'gray75', 'gray12', 'hourglass', 'questhead',\n",
    "           'info', 'warning', 'question']\n",
    "    if btn['bitmap'] in bmp:\n",
    "        i = random.randint(0,len(bmp)-1)\n",
    "        btn.config(bitmap=bmp[i])\n",
    "        label.config(text=bmp[i].upper())\n",
    "\n",
    "label = tk.Label(root, text='ERROR')\n",
    "btn = tk.Button(root, text='Raised', relief='raised', \n",
    "                bitmap='error', command=on_click)\n",
    "\n",
    "label.pack()\n",
    "btn.pack()\n",
    "\n",
    "root.mainloop()"
   ]
  },
  {
   "cell_type": "markdown",
   "metadata": {},
   "source": [
    "Using the `cursors`."
   ]
  },
  {
   "cell_type": "code",
   "execution_count": 29,
   "metadata": {},
   "outputs": [],
   "source": [
    "import random\n",
    "\n",
    "root = tk.Tk()\n",
    "root.title('Costumizing Anchor widget in Tkinter')\n",
    "root.minsize(300,200)\n",
    "\n",
    "def on_click():\n",
    "    \n",
    "    cursors = ['arrow', 'circle', 'clock', 'cross', 'dotbox', 'exchange', 'fleur',\n",
    "           'heart', 'man', 'mouse']\n",
    "    if btn['cursor'] in cursors:\n",
    "        i = random.randint(0,len(cursors)-1)\n",
    "        btn.config(cursor=cursors[i])\n",
    "        label.config(text=cursors[i].upper())\n",
    "\n",
    "label = tk.Label(root, text='ARROW')\n",
    "btn = tk.Button(root, text='Raised', relief='raised', \n",
    "                cursor='arrow', command=on_click)\n",
    "\n",
    "label.pack()\n",
    "btn.pack()\n",
    "\n",
    "root.mainloop()"
   ]
  },
  {
   "cell_type": "code",
   "execution_count": null,
   "metadata": {},
   "outputs": [],
   "source": []
  }
 ],
 "metadata": {
  "kernelspec": {
   "display_name": "Python 3",
   "language": "python",
   "name": "python3"
  },
  "language_info": {
   "codemirror_mode": {
    "name": "ipython",
    "version": 3
   },
   "file_extension": ".py",
   "mimetype": "text/x-python",
   "name": "python",
   "nbconvert_exporter": "python",
   "pygments_lexer": "ipython3",
   "version": "3.10.12"
  }
 },
 "nbformat": 4,
 "nbformat_minor": 2
}
