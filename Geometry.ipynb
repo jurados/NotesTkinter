{
 "cells": [
  {
   "cell_type": "markdown",
   "metadata": {},
   "source": [
    "# Geometry\n",
    "\n",
    "There are three geometry managers that we can use in Tkinter.\n",
    "\n",
    "- `.pack()`: not is the best in localization\n",
    "- `.grid()`: more customized.\n",
    "- `.place()`: more customized."
   ]
  },
  {
   "cell_type": "code",
   "execution_count": 1,
   "metadata": {},
   "outputs": [],
   "source": [
    "import tkinter as tk"
   ]
  },
  {
   "cell_type": "markdown",
   "metadata": {},
   "source": [
    "The `.pack()` geometry manager."
   ]
  },
  {
   "cell_type": "code",
   "execution_count": 6,
   "metadata": {},
   "outputs": [],
   "source": [
    "root = tk.Tk()\n",
    "root.title('The Packer')\n",
    "root.minsize(300,200)\n",
    "\n",
    "tk.Button(root, text='Default Position').pack()\n",
    "tk.Button(root, text='Default Position Attributes').pack(side='bottom',\n",
    "                                                         anchor='center',\n",
    "                                                         fill='none',\n",
    "                                                         expand=0)\n",
    "tk.Button(root, text='Default Position Attributes').pack(side='left',\n",
    "                                                         anchor='center',\n",
    "                                                         fill='none',\n",
    "                                                         expand=0)\n",
    "tk.Button(root, text='Default Position Attributes').pack(side='left',\n",
    "                                                         anchor='center',\n",
    "                                                         fill='x',\n",
    "                                                         expand=1)\n",
    "\n",
    "root.mainloop()"
   ]
  },
  {
   "cell_type": "markdown",
   "metadata": {},
   "source": []
  },
  {
   "cell_type": "markdown",
   "metadata": {},
   "source": [
    "The `.grid()` geometry manager.\n",
    "\n",
    "Organises widget in rows and column references."
   ]
  },
  {
   "cell_type": "code",
   "execution_count": 2,
   "metadata": {},
   "outputs": [],
   "source": [
    "root = tk.Tk()\n",
    "root.title('Columns and Rows with grid')\n",
    "root.minsize(300,200)\n",
    "\n",
    "for row in range(6):\n",
    "    for column in range(7):\n",
    "        tk.Button(root, text=f\"R{row} -- C{column}\", bg='yellow').grid(row=row, column=column,\n",
    "                                                          padx=3, pady=2)\n",
    "\n",
    "root.mainloop()"
   ]
  },
  {
   "cell_type": "markdown",
   "metadata": {},
   "source": []
  },
  {
   "cell_type": "markdown",
   "metadata": {},
   "source": [
    "The `.place()` geometry manager.\n",
    "\n",
    "Its particularity is that is uses X and Y offsets to position widhets in the main application.\n",
    "\n",
    "The sintax is:\n",
    "`widget.place()`"
   ]
  },
  {
   "cell_type": "code",
   "execution_count": 15,
   "metadata": {},
   "outputs": [],
   "source": [
    "root = tk.Tk()\n",
    "root.title('Columns and Rows with grid')\n",
    "root.minsize(300,200)\n",
    "\n",
    "btn = tk.Button(root, text='My Place')\n",
    "btn.place(x=20, y=20, height=50, width=150)\n",
    "\n",
    "root.mainloop()"
   ]
  },
  {
   "cell_type": "markdown",
   "metadata": {},
   "source": []
  }
 ],
 "metadata": {
  "kernelspec": {
   "display_name": "Python 3",
   "language": "python",
   "name": "python3"
  },
  "language_info": {
   "codemirror_mode": {
    "name": "ipython",
    "version": 3
   },
   "file_extension": ".py",
   "mimetype": "text/x-python",
   "name": "python",
   "nbconvert_exporter": "python",
   "pygments_lexer": "ipython3",
   "version": "3.10.12"
  }
 },
 "nbformat": 4,
 "nbformat_minor": 2
}
