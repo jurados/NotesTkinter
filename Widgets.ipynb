{
 "cells": [
  {
   "cell_type": "markdown",
   "metadata": {},
   "source": [
    "Puedo decir que mi vida laborar era senicllo\n",
    "\n",
    "en los domingos vendia bolist y helados\n",
    "monitor de física y matématica en el colegio pasciencia y trabajo\n",
    "docente de auxiar de catedra de física y matemática en el semillero de universidad de antioquia"
   ]
  },
  {
   "cell_type": "code",
   "execution_count": 1,
   "metadata": {},
   "outputs": [],
   "source": [
    "import tkinter as tk\n",
    "\n",
    "# Themes in tkinter\n",
    "from tkinter import ttk"
   ]
  },
  {
   "cell_type": "markdown",
   "metadata": {},
   "source": [
    "Here we begin to define our main interface"
   ]
  },
  {
   "cell_type": "code",
   "execution_count": 11,
   "metadata": {},
   "outputs": [
    {
     "data": {
      "text/plain": [
       "''"
      ]
     },
     "execution_count": 11,
     "metadata": {},
     "output_type": "execute_result"
    }
   ],
   "source": [
    "root = tk.Tk()\n",
    "\n",
    "# Adding a title\n",
    "root.title(string=\"Simple Interface\")\n",
    "\n",
    "# Allow to the applycation keep running\n",
    "root.mainloop()"
   ]
  },
  {
   "cell_type": "markdown",
   "metadata": {},
   "source": [
    "# Widgets"
   ]
  },
  {
   "cell_type": "markdown",
   "metadata": {},
   "source": [
    "The widget `label` allow us to write text"
   ]
  },
  {
   "cell_type": "code",
   "execution_count": 5,
   "metadata": {},
   "outputs": [],
   "source": [
    "# Adding a label\n",
    "lbl = tk.Label(master=root,\n",
    "                text='Label 1',\n",
    "                background= 'lightgreen', # Change the background color\n",
    "                font='calibri',\n",
    "                wraplength=500,\n",
    "                padx=20,\n",
    "                pady=20) \n",
    "lbl.grid(row=0, column=0) # indicates the position\n"
   ]
  },
  {
   "cell_type": "markdown",
   "metadata": {},
   "source": [
    "The widget `Entry`"
   ]
  },
  {
   "cell_type": "code",
   "execution_count": 3,
   "metadata": {},
   "outputs": [],
   "source": [
    "root = tk.Tk()\n",
    "root.title('The Entry Widget')\n",
    "root.minsize(350,150) # Selecting the initial window size.\n",
    "\n",
    "entry = tk.Entry(master=root)\n",
    "entry.insert(index=0, string='Put some text here!')\n",
    "entry.config (state='disabled')\n",
    "entry.pack()\n",
    "\n",
    "root.mainloop()"
   ]
  },
  {
   "cell_type": "code",
   "execution_count": 12,
   "metadata": {},
   "outputs": [
    {
     "name": "stdout",
     "output_type": "stream",
     "text": [
      "Steve Manizales\n",
      "Steve Manizales\n"
     ]
    }
   ],
   "source": [
    "root = tk.Tk()\n",
    "root.title('The Entry Widget')\n",
    "root.minsize(350,150) # Selecting the initial window size.\n",
    "\n",
    "show = lambda: print(entry_1.get(), entry_2.get())\n",
    "\n",
    "label_1 = tk.Label(master=root, text='Name')\n",
    "label_1.grid(row=0, column=0)\n",
    "entry_1 = tk.Entry(master=root)\n",
    "entry_1.grid(row=0, column=1, pady=2)\n",
    "\n",
    "label_2 = tk.Label(master=root, text='City')\n",
    "label_2.grid(row=1, column=0)\n",
    "entry_2 = tk.Entry(master=root)\n",
    "entry_2.grid(row=1, column=1, pady=2)\n",
    "\n",
    "tk.Button(master=root, text='Show', command=show).grid(row=2, column=1, pady=4)\n",
    "\n",
    "root.mainloop()"
   ]
  },
  {
   "cell_type": "markdown",
   "metadata": {},
   "source": [
    "The widget `Button`"
   ]
  },
  {
   "cell_type": "code",
   "execution_count": 12,
   "metadata": {},
   "outputs": [],
   "source": [
    "tk.Button(master=root,text='Click Me!', relief='raised').pack()\n",
    "tk.Button(master=root,text='Click Me!', relief='sunken').pack()\n",
    "tk.Button(master=root,text='Click Me!', relief='flat').pack()\n",
    "tk.Button(master=root,text='Click Me!', relief='ridge').pack()\n",
    "tk.Button(master=root,text='Click Me!', relief='groove').pack()\n",
    "tk.Button(master=root,text='Click Me!', relief='solid').pack()"
   ]
  },
  {
   "cell_type": "code",
   "execution_count": null,
   "metadata": {},
   "outputs": [],
   "source": [
    "# Create a botton\n",
    "btn = tk.Button(master=root,\n",
    "                 text='Button 1', # Text on the button\n",
    "                 command=on_click_label) # Apply a function over this button\n",
    "btn.grid(row=0, column=1) # Select the localization of button"
   ]
  },
  {
   "cell_type": "markdown",
   "metadata": {},
   "source": [
    "The `Check-Button` widget"
   ]
  },
  {
   "cell_type": "code",
   "execution_count": 2,
   "metadata": {},
   "outputs": [],
   "source": [
    "root = tk.Tk()\n",
    "root.title('The Checkbutton Widget')\n",
    "root.minsize(350,150) # Selecting the initial window size.\n",
    "\n",
    "tk.Label(master=root, text='Slect Your Best Fruit').pack()\n",
    "\n",
    "chk_btn = tk.Checkbutton(master=root, text='Mango').pack()\n",
    "chk_btn = tk.Checkbutton(master=root, text='Banana').pack()\n",
    "chk_btn = tk.Checkbutton(master=root, text='Apple').pack()\n",
    "chk_btn = tk.Checkbutton(master=root, text='GrapeFruit', state='disabled').pack()\n",
    "\n",
    "root.mainloop()"
   ]
  },
  {
   "cell_type": "markdown",
   "metadata": {},
   "source": [
    "![](./assets/imgs/checkbutton_widget.png)"
   ]
  },
  {
   "cell_type": "code",
   "execution_count": 4,
   "metadata": {},
   "outputs": [],
   "source": [
    "root = tk.Tk()\n",
    "root.title('The Checkbutton Widget')\n",
    "root.minsize(350,150)\n",
    "\n",
    "var_1 = tk.IntVar(value=1) # If value=1 it'll be by default set on\n",
    "var_2 = tk.IntVar()\n",
    "\n",
    "chk_btn = tk.Checkbutton(master=root, text='Male', variable=var_1).grid(row=0, sticky='w')\n",
    "chk_btn = tk.Checkbutton(master=root, text='Female', variable=var_2, state='disable',\n",
    "                        width=50, height=3).grid(row=1, sticky='w')\n",
    "\n",
    "root.mainloop()"
   ]
  },
  {
   "cell_type": "markdown",
   "metadata": {},
   "source": [
    "The `Radio-Button` widget"
   ]
  },
  {
   "cell_type": "code",
   "execution_count": 7,
   "metadata": {},
   "outputs": [],
   "source": [
    "root = tk.Tk()\n",
    "root.title('The Radio-Button Widget')\n",
    "root.minsize(350,150)\n",
    "\n",
    "tk.Radiobutton(master=root, text='Radio Button', value=1).pack()\n",
    "\n",
    "for text, value in [('Apple',1), ('Banana', 2), ('Grape', 3), ('Strawberry',4)]:\n",
    "    tk.Radiobutton(master=root, text=text, value=value,\n",
    "                   indicatoron=0).pack() # Show an indicator of what the button looks like\n",
    "\n",
    "root.mainloop()"
   ]
  },
  {
   "cell_type": "markdown",
   "metadata": {},
   "source": [
    "The `Canvas` widget"
   ]
  },
  {
   "cell_type": "code",
   "execution_count": 26,
   "metadata": {},
   "outputs": [],
   "source": [
    "root = tk.Tk()\n",
    "root.title('The Canvas Widget')\n",
    "root.minsize(350,150)\n",
    "\n",
    "canvas = tk.Canvas(master=root, \n",
    "                   bg='blue',\n",
    "                   height=500,width=500)\n",
    "\n",
    "rect = 10,10, 100,50 # Rectanglue\n",
    "canvas.create_rectangle(rect,fill='green')\n",
    "\n",
    "sqr = 10,10, 50,50 # Square\n",
    "canvas.create_rectangle(sqr,fill='orange')\n",
    "\n",
    "line = 20,20, 150,250, 100,300\n",
    "canvas.create_line(line,fill='red')\n",
    "\n",
    "oval = 30,30, 200,200\n",
    "canvas.create_oval(oval,fill='gray')\n",
    "\n",
    "coord = 50,50, 120,250\n",
    "canvas.create_arc(coord, start=0, extent=150, fill='purple')\n",
    "\n",
    "pol = 45,10, 200,350, 100,240\n",
    "canvas.create_polygon(pol, fill='pink')\n",
    "\n",
    "canvas.pack()\n",
    "root.mainloop()"
   ]
  },
  {
   "cell_type": "markdown",
   "metadata": {},
   "source": [
    "The `Frame` widget"
   ]
  },
  {
   "cell_type": "code",
   "execution_count": 34,
   "metadata": {},
   "outputs": [],
   "source": [
    "root = tk.Tk()\n",
    "root.title('The Frame Widget')\n",
    "root.minsize(350,150)\n",
    "\n",
    "frame = tk.Frame(master=root, bg='pink',\n",
    "                 height=400, width=400)\n",
    "\n",
    "\n",
    "label = tk.Label(master=frame,\n",
    "                 text=' Label in Tkinter is useful to display text and images',\n",
    "                 bg='lightgreen', font='calibri', wraplength=500).pack()\n",
    "\n",
    "for text, value in [('Apple',1), ('Banana', 2), ('Grape', 3), ('Strawberry',4)]:\n",
    "    tk.Radiobutton(master=frame, text=text, value=value,\n",
    "                   indicatoron=0, width=20).pack() # Show an indicator of what the button looks like\n",
    "\n",
    "frame.pack()\n",
    "root.mainloop()"
   ]
  },
  {
   "cell_type": "markdown",
   "metadata": {},
   "source": [
    "The `Listbox` widget"
   ]
  },
  {
   "cell_type": "code",
   "execution_count": 41,
   "metadata": {},
   "outputs": [],
   "source": [
    "root = tk.Tk()\n",
    "root.title('The Listbox Widget')\n",
    "root.minsize(350,150)\n",
    "\n",
    "listbox = tk.Listbox(master=root, width=15, height=15,\n",
    "                     justify='right',        # justify indicates how the text is showed\n",
    "                     selectbackground='red', # color of the select item background\n",
    "                     selectmode='multiple')  # mode of item selected\n",
    " \n",
    "for item in range(10):\n",
    "    listbox.insert('end',item)\n",
    "\n",
    "listbox.pack()\n",
    "root.mainloop()"
   ]
  },
  {
   "cell_type": "code",
   "execution_count": 4,
   "metadata": {},
   "outputs": [
    {
     "name": "stdout",
     "output_type": "stream",
     "text": [
      "You selected item 7: 7\n",
      "You selected item 7: 7\n"
     ]
    },
    {
     "name": "stdout",
     "output_type": "stream",
     "text": [
      "You selected item 7: 7\n",
      "You selected item 7: 7\n"
     ]
    },
    {
     "name": "stdout",
     "output_type": "stream",
     "text": [
      "You selected item 5: 5\n",
      "You selected item 5: 5\n"
     ]
    }
   ],
   "source": [
    "root = tk.Tk()\n",
    "root.title('The Listbox Widget')\n",
    "root.minsize(350,150)\n",
    "\n",
    "def on_select(event):\n",
    "    event = event.widget\n",
    "    index = int(event.curselection()[0])\n",
    "    value = event.get(index)\n",
    "    print(f\"You selected item {index}: {value}\")\n",
    "\n",
    "listbox = tk.Listbox(master=root, width=15, height=15,\n",
    "                     justify='right',        # justify indicates how the text is showed\n",
    "                     selectbackground='red', # color of the select item background\n",
    "                     selectmode='multiple',  # mode of item selected\n",
    "                     )  \n",
    " \n",
    "for item in range(10):\n",
    "    listbox.insert('end',item)\n",
    "\n",
    "listbox.bind('<<ListboxSelect>>', on_select)\n",
    "listbox.place(relx=0, rely=0, anchor='w')\n",
    "\n",
    "listbox.pack()\n",
    "root.mainloop()"
   ]
  },
  {
   "cell_type": "markdown",
   "metadata": {},
   "source": [
    "The `Menu` widget"
   ]
  },
  {
   "cell_type": "code",
   "execution_count": 47,
   "metadata": {},
   "outputs": [],
   "source": [
    "root = tk.Tk()\n",
    "root.title('The Menu Widget')\n",
    "root.minsize(350,150)\n",
    "\n",
    "mainmenu = tk.Menu(master=root)\n",
    "\n",
    "# File Menu start here\n",
    "filemenu = tk.Menu(master=mainmenu, tearoff=0)\n",
    "\n",
    "filemenu.add_command(label='New Text File')\n",
    "filemenu.add_command(label='New File')\n",
    "filemenu.add_command(label='New Window')\n",
    "filemenu.add_separator()\n",
    "filemenu.add_command(label='Open File')\n",
    "filemenu.add_command(label='Open Folder')\n",
    "\n",
    "openrecentmenu = tk.Menu(master=mainmenu)\n",
    "openrecentmenu.add_command(label='File 1 12/11/23')\n",
    "openrecentmenu.add_command(label='File 2 11/11/23')\n",
    "openrecentmenu.add_command(label='File 3 22/11/23')\n",
    "openrecentmenu.add_command(label='File 4 16/11/23')\n",
    "\n",
    "filemenu.add_cascade(label='Open Recent', menu=openrecentmenu)\n",
    "\n",
    "filemenu.add_separator()\n",
    "\n",
    "filemenu.add_command(label='Exit', command=root.quit)\n",
    "\n",
    "mainmenu.add_cascade(label='File', menu=filemenu)\n",
    "\n",
    "# Edit Menu start here\n",
    "editmenu = tk.Menu(master=mainmenu, tearoff=0)\n",
    "\n",
    "editmenu.add_command(label='Undo')\n",
    "editmenu.add_command(label='Redo')\n",
    "editmenu.add_separator()\n",
    "editmenu.add_command(label='Copy')\n",
    "editmenu.add_command(label='Cut')\n",
    "editmenu.add_command(label='Paste')\n",
    "\n",
    "mainmenu.add_cascade(label='Edit', menu=editmenu)\n",
    "\n",
    "# View Menu start here\n",
    "viewmenu = tk.Menu(master=mainmenu, tearoff=0)\n",
    "\n",
    "viewmenu.add_checkbutton(label='Terminal')\n",
    "viewmenu.add_checkbutton(label='Explorer')\n",
    "viewmenu.add_separator()\n",
    "viewmenu.add_radiobutton(label='Menu')\n",
    "viewmenu.add_radiobutton(label='Panel')\n",
    "viewmenu.add_radiobutton(label='Output')\n",
    "viewmenu.add_separator()\n",
    "viewmenu.add_command(label='Copy')\n",
    "viewmenu.add_command(label='Cut')\n",
    "\n",
    "mainmenu.add_cascade(label='View', menu=viewmenu)\n",
    "\n",
    "root.config(menu=mainmenu)\n",
    "\n",
    "root.mainloop()"
   ]
  },
  {
   "cell_type": "markdown",
   "metadata": {},
   "source": [
    "The `Menu Button` widget"
   ]
  },
  {
   "cell_type": "code",
   "execution_count": 51,
   "metadata": {},
   "outputs": [],
   "source": [
    "root = tk.Tk()\n",
    "root.title('The Menu Button Widget')\n",
    "root.minsize(350,150)\n",
    "\n",
    "menubutton = tk.Menubutton(master=root, text='Select Options')\n",
    "\n",
    "menu = tk.Menu(master=menubutton, tearoff=False)\n",
    "\n",
    "menubutton['menu'] = menu\n",
    "menu.add_command(label='Option 1')\n",
    "menu.add_command(label='Option 2')\n",
    "menu.add_command(label='Option 3')\n",
    "menu.add_command(label='Option 4')\n",
    "\n",
    "menubutton.pack()\n",
    "root.mainloop()"
   ]
  },
  {
   "cell_type": "markdown",
   "metadata": {},
   "source": [
    "The `Message` widget"
   ]
  },
  {
   "cell_type": "code",
   "execution_count": 58,
   "metadata": {},
   "outputs": [],
   "source": [
    "root = tk.Tk()\n",
    "root.title('The Message Widget')\n",
    "root.minsize(350,150)\n",
    "\n",
    "tk.Label(master=root, text='We can say that a Message widget is just like the label widgert \\\n",
    "         just that is displays long text by default in multiple lines, it is kind of obsolote now but can still help in some cases',\n",
    "         bg='red').pack() # This resize the windows \n",
    "\n",
    "tk.Message(master=root, text='We can say that a Message widget is just like the label widget just that is displays a long text by default in multiple \\\n",
    "           lines, it is kind of obsolte now but can still help sin some cases', bg='royalblue', width=200,\n",
    "           justify='center', relief='raised').pack()\n",
    "\n",
    "root.mainloop()"
   ]
  },
  {
   "cell_type": "markdown",
   "metadata": {},
   "source": [
    "The `Scale` widget"
   ]
  },
  {
   "cell_type": "code",
   "execution_count": 3,
   "metadata": {},
   "outputs": [],
   "source": [
    "root = tk.Tk()\n",
    "root.title('The Scale like Thermometer ')\n",
    "root.minsize(350,150)\n",
    "\n",
    "scaleColor = lambda value: scale.config(bg='blue') if int(value) <= 20 else scale.config(bg='yellow') if 20 <int(value) <= 40 else \\\n",
    "scale.config(bg='orange') if 40 < int(value) <= 65 else scale.config(bg='red')\n",
    "\n",
    "scale = tk.Scale(master=root, length=250, from_=0, to=150, tickinterval=15,\n",
    "                 orient='horizontal', # Horizontal scales\n",
    "                 command=scaleColor)  \n",
    "scale.set(30)\n",
    "\n",
    "scale.pack()\n",
    "\n",
    "root.mainloop()"
   ]
  },
  {
   "cell_type": "code",
   "execution_count": 7,
   "metadata": {},
   "outputs": [
    {
     "name": "stdout",
     "output_type": "stream",
     "text": [
      "22.0\n",
      "22.0\n"
     ]
    },
    {
     "name": "stdout",
     "output_type": "stream",
     "text": [
      "43.0\n",
      "43.0\n"
     ]
    }
   ],
   "source": [
    "root = tk.Tk()\n",
    "root.title('The Scale like Thermometer ')\n",
    "root.minsize(350,150)\n",
    "\n",
    "func = lambda: print(var.get())\n",
    "\n",
    "var = tk.DoubleVar()\n",
    "scale = tk.Scale(master=root, variable=var)  \n",
    "scale.pack(anchor='center')\n",
    "\n",
    "btn = tk.Button(master=root, text='How much?', command=func)\n",
    "btn.pack(anchor='center')\n",
    "\n",
    "root.mainloop()"
   ]
  },
  {
   "cell_type": "markdown",
   "metadata": {},
   "source": [
    "The `Scrollbar` widget "
   ]
  },
  {
   "cell_type": "code",
   "execution_count": 8,
   "metadata": {},
   "outputs": [],
   "source": [
    "root = tk.Tk()\n",
    "root.title('The Scrollbar Widget')\n",
    "root.minsize(350,150)\n",
    "\n",
    "frame = tk.Frame(master=root, height=7, width=10)\n",
    "\n",
    "listbox = tk.Listbox(master=frame, width=15, height=5,\n",
    "                     justify='right', selectbackground='red', selectmode='extended')\n",
    "\n",
    "scroll = tk.Scrollbar(master=frame, command=listbox.yview)\n",
    "\n",
    "scroll.pack(side='right', fill='y')\n",
    " \n",
    "for item in range(10):\n",
    "    listbox.insert('end',item)\n",
    "\n",
    "listbox.pack()\n",
    "frame.pack()\n",
    "root.mainloop()"
   ]
  },
  {
   "cell_type": "markdown",
   "metadata": {},
   "source": [
    "The `Text` widget"
   ]
  },
  {
   "cell_type": "code",
   "execution_count": 12,
   "metadata": {},
   "outputs": [],
   "source": [
    "root = tk.Tk()\n",
    "root.title('The Text Widget')\n",
    "root.minsize(350,150)\n",
    "\n",
    "text = tk.Text(master=root)\n",
    "text.insert('insert','The first line in the text widget ...\\n')\n",
    "text.insert('end','The second line in the text widget ...')\n",
    "\n",
    "text.pack()\n",
    "\n",
    "text.tag_add('here', '1.0', \"1.36\") # The first character is 0, 36 is the line of characters in a line\n",
    "text.tag_add('next', '2.0', \"2.36\")\n",
    "text.tag_config('here',background='orange', font='times')\n",
    "text.tag_config('next',background='yellow', font='calibri')\n",
    "\n",
    "root.mainloop()"
   ]
  },
  {
   "cell_type": "markdown",
   "metadata": {},
   "source": [
    "The `TopLevel` widget"
   ]
  },
  {
   "cell_type": "code",
   "execution_count": 15,
   "metadata": {},
   "outputs": [],
   "source": [
    "root = tk.Tk()\n",
    "root.title('The TopLevel Widget')\n",
    "root.minsize(350,150)\n",
    "\n",
    "toplevel = None\n",
    "\n",
    "def agree():\n",
    "    global toplevel\n",
    "    tk.Label(master=root, text='Good choise').pack()\n",
    "    toplevel.destroy()\n",
    "\n",
    "def top():\n",
    "    global toplevel # Use the global variable\n",
    "    toplevel = tk.Toplevel(master=root)\n",
    "    label = tk.Label(master=toplevel, text='Terms and Conditions').pack()\n",
    "    terms = tk.Message(master=toplevel, text='This is an greement that stands as the termns \\\n",
    "                     and conditions of ... Here you promise to learn consisitently ...',\n",
    "                     width=300).pack()\n",
    "    radio = tk.Radiobutton(master=toplevel, text='I agree', command=agree, state='normal',value=1).pack()\n",
    "    radio = tk.Radiobutton(master=toplevel, text='I desagree', command=root.quit, state='normal').pack()\n",
    "    \n",
    "btn = tk.Button(master=root, text='Install', command=top).pack()\n",
    "\n",
    "root.mainloop()"
   ]
  },
  {
   "cell_type": "markdown",
   "metadata": {},
   "source": [
    "The `Spinbox` widget"
   ]
  },
  {
   "cell_type": "code",
   "execution_count": 18,
   "metadata": {},
   "outputs": [],
   "source": [
    "root = tk.Tk()\n",
    "root.title('The Spinbox Widget')\n",
    "root.minsize(350,150)\n",
    "\n",
    "tk.Spinbox(master=root, from_=0, to=10,\n",
    "           value=5).pack() # Default the unique value of the Spinbox\n",
    "\n",
    "root.mainloop()"
   ]
  },
  {
   "cell_type": "code",
   "execution_count": 12,
   "metadata": {},
   "outputs": [
    {
     "name": "stdout",
     "output_type": "stream",
     "text": [
      "45\n",
      "45\n"
     ]
    }
   ],
   "source": [
    "root = tk.Tk()\n",
    "root.title('The Spinbox Widget')\n",
    "root.minsize(350,150)\n",
    "\n",
    "spinbox = tk.Spinbox(master=root, from_=0, to=100)\n",
    "spinbox.place(x=30, y=100)\n",
    "\n",
    "btn = tk.Button(master=root, text='Click', command=lambda:print(spinbox.get()))\n",
    "btn.place(x=30, y=120)\n",
    "\n",
    "root.mainloop()"
   ]
  },
  {
   "cell_type": "markdown",
   "metadata": {},
   "source": [
    "The `PanedWindow` widget"
   ]
  },
  {
   "cell_type": "code",
   "execution_count": 21,
   "metadata": {},
   "outputs": [],
   "source": [
    "root = tk.Tk()\n",
    "root.title('The PanedWindow Widget')\n",
    "root.minsize(350,150)\n",
    "\n",
    "panedwindow = tk.PanedWindow(master=root,\n",
    "                             bg='yellow', orient='vertical',\n",
    "                             width=200)\n",
    "panedwindow.pack()\n",
    "\n",
    "label_1 = tk.Label(master=panedwindow, text='Pane 1')\n",
    "panedwindow.add(label_1)\n",
    "label_2 = tk.Label(master=panedwindow, text='Pane 2')\n",
    "panedwindow.add(label_2)\n",
    "label_3 = tk.Label(master=panedwindow, text='Pane 3')\n",
    "panedwindow.add(label_3)\n",
    "\n",
    "\n",
    "root.mainloop()"
   ]
  },
  {
   "cell_type": "markdown",
   "metadata": {},
   "source": [
    "The `LabelFrame` widget"
   ]
  },
  {
   "cell_type": "code",
   "execution_count": 25,
   "metadata": {},
   "outputs": [],
   "source": [
    "root = tk.Tk()\n",
    "root.title('The LabelFrame Widget')\n",
    "root.minsize(350,150)\n",
    "\n",
    "label_frame = tk.LabelFrame(master=root, text='Login')\n",
    "label_frame.pack()\n",
    "\n",
    "label_email = tk.Label(master=label_frame, text='Email: ')\n",
    "email_entry = tk.Entry(master=label_frame)\n",
    "label_password = tk.Label(master=label_frame, text='Password: ')\n",
    "password_entry = tk.Entry(master=label_frame)\n",
    "\n",
    "label_email.grid(row=0, column=0)\n",
    "email_entry.grid(row=0, column=1)\n",
    "label_password.grid(row=1, column=0)\n",
    "password_entry.grid(row=1, column=1)\n",
    "\n",
    "root.mainloop()"
   ]
  },
  {
   "cell_type": "markdown",
   "metadata": {},
   "source": [
    "The `MessageBox` widget"
   ]
  },
  {
   "cell_type": "code",
   "execution_count": 26,
   "metadata": {},
   "outputs": [],
   "source": [
    "from tkinter import messagebox\n",
    "\n",
    "root = tk.Tk()\n",
    "root.title('The MessageBox Widget')\n",
    "root.minsize(350,150)\n",
    "\n",
    "messagebox.showinfo(title='Info', message='Learning is fun and practicing is clever.')\n",
    "\n",
    "root.mainloop()"
   ]
  },
  {
   "cell_type": "code",
   "execution_count": 4,
   "metadata": {},
   "outputs": [
    {
     "name": "stdout",
     "output_type": "stream",
     "text": [
      "Delete\n"
     ]
    }
   ],
   "source": [
    "from tkinter import messagebox\n",
    "\n",
    "root = tk.Tk()\n",
    "root.title('The MessageBox Widget')\n",
    "root.minsize(350,150)\n",
    "\n",
    "results = messagebox.askokcancel(title='Delete', message='Delete All files', icon='warning')\n",
    "print('Delete') if results == 'ok' else print(\"I'm not deleted yet\")\n",
    "\n",
    "root.mainloop()"
   ]
  },
  {
   "cell_type": "code",
   "execution_count": 5,
   "metadata": {},
   "outputs": [
    {
     "name": "stdout",
     "output_type": "stream",
     "text": [
      "Trying\n"
     ]
    }
   ],
   "source": [
    "from tkinter import messagebox\n",
    "\n",
    "root = tk.Tk()\n",
    "root.title('The MessageBox Widget')\n",
    "root.minsize(350,150)\n",
    "\n",
    "results = messagebox.askretrycancel(title='Warning', message='Failed, try again?')\n",
    "print('Trying') if results == True else print(\"Give up\")\n",
    "\n",
    "root.mainloop()"
   ]
  },
  {
   "cell_type": "code",
   "execution_count": 29,
   "metadata": {},
   "outputs": [],
   "source": [
    "from tkinter import messagebox\n",
    "\n",
    "root = tk.Tk()\n",
    "root.title('The MessageBox Widget')\n",
    "root.minsize(350,150)\n",
    "\n",
    "show_info = lambda: messagebox.showinfo(title='Info', message='Learning is fun and practicing is clever')\n",
    "show_warning = lambda: messagebox.showwarning(title='Notice', message='Have you practice today')\n",
    "show_error = lambda: messagebox.showerror(title='Mistake', message='Falling to practice is practicing to fail') \n",
    "\n",
    "def show_question():\n",
    "\n",
    "    answer = messagebox.askquestion(title='Info', message='Did you study?') \n",
    "    \n",
    "    text = 'Good student!' if answer == 'yes' else 'Please practice'\n",
    "    tk.Label(master=root, text=text).pack()\n",
    "\n",
    "btn_info = tk.Button(master=root, text='Click Info', command=show_info).pack()\n",
    "btn_warning = tk.Button(master=root, text='Click Warning', command=show_warning).pack()\n",
    "btn_error = tk.Button(master=root, text='Click Error', command=show_error).pack()\n",
    "btn_question = tk.Button(master=root, text='Click Question', command=show_question).pack()\n",
    "\n",
    "root.mainloop()"
   ]
  },
  {
   "cell_type": "markdown",
   "metadata": {},
   "source": [
    "# Uses"
   ]
  },
  {
   "cell_type": "markdown",
   "metadata": {},
   "source": [
    "root = tk.Tk()\n",
    "root.title('The Menu Widget')\n",
    "root.minsize(350,150)\n",
    "\n",
    "\n",
    "\n",
    "root.mainloop()"
   ]
  },
  {
   "cell_type": "markdown",
   "metadata": {},
   "source": []
  },
  {
   "cell_type": "code",
   "execution_count": null,
   "metadata": {},
   "outputs": [],
   "source": []
  },
  {
   "cell_type": "code",
   "execution_count": null,
   "metadata": {},
   "outputs": [],
   "source": []
  },
  {
   "cell_type": "markdown",
   "metadata": {},
   "source": [
    "Now we will crate a Frame. it just a container allows us to hold different widgets and allows us organize our layout"
   ]
  },
  {
   "cell_type": "markdown",
   "metadata": {},
   "source": [
    "We can create the function and used them for our interface"
   ]
  },
  {
   "cell_type": "code",
   "execution_count": 4,
   "metadata": {},
   "outputs": [],
   "source": [
    "def on_click():\n",
    "    # Print \"Testing\" on the terminal when we make a click\n",
    "    return print('Testing')\n",
    "\n",
    "def on_click_label():\n",
    "    # Change the text on the label\n",
    "    return lbl.config(text='Button clicked!!')"
   ]
  },
  {
   "cell_type": "code",
   "execution_count": 3,
   "metadata": {},
   "outputs": [],
   "source": [
    "def add_to_list():\n",
    "    text = entry.get()\n",
    "    if text:\n",
    "        text_list.insert(tk.END,text)\n",
    "        entry.delete(first=0, last=tk.END)"
   ]
  },
  {
   "cell_type": "code",
   "execution_count": 20,
   "metadata": {},
   "outputs": [],
   "source": [
    "root = tk.Tk()\n",
    "\n",
    "# Adding a title\n",
    "root.title(string=\"Adding Texts\")\n",
    "\n",
    "# Configure the window\n",
    "root.columnconfigure(index=0, weight=1) \n",
    "root.columnconfigure(index=1, weight=2) \n",
    "root.rowconfigure(index=0, weight=1)\n",
    "\n",
    "# Create a frame\n",
    "frame = ttk.Frame(master=root)\n",
    "frame.grid(row=0, column=0, sticky=\"nsew\", # nsew: North, South, East and West\n",
    "           padx=5, pady=5) \n",
    "\n",
    "# Resizes the window\n",
    "frame.columnconfigure(index=0, weight=1)\n",
    "frame.rowconfigure(index=1, weight=1)\n",
    "\n",
    "# Text entry\n",
    "entry = ttk.Entry(master=frame)\n",
    "entry.grid(row=0, column=0, sticky='ew') # in the same position of our frame\n",
    "\n",
    "# Add events based on keywords  \n",
    "entry.bind(sequence=\"<Return>\",func=lambda event:add_to_list()) \n",
    "\n",
    "entry_btn = ttk.Button(master=frame, text='Add', command=add_to_list)\n",
    "entry_btn.grid(row=0, column=1)\n",
    "\n",
    "# Hold all the text values added\n",
    "text_list = tk.Listbox(master=frame)\n",
    "text_list.grid(row=1, column=0, columnspan=2,\n",
    "               sticky=\"nsew\") # ew: East and Weast\n",
    "\n",
    "# Create a frame\n",
    "frame2 = tk.Frame(master=root)\n",
    "frame2.grid(row=0, column=1, sticky=\"nsew\", # nsew: North, South, East and West\n",
    "            padx=5, pady=5 ) \n",
    "\n",
    "# Resizes the window\n",
    "frame2.columnconfigure(index=0, weight=1)\n",
    "frame2.rowconfigure(index=1, weight=1)\n",
    "\n",
    "# Text entry\n",
    "entry = tk.Entry(master=frame2)\n",
    "entry.grid(row=0, column=0, sticky='ew') # in the same position of our frame2\n",
    "\n",
    "# Add events based on keywords  \n",
    "entry.bind(sequence=\"<Return>\",func=lambda event:add_to_list()) \n",
    "\n",
    "entry_btn = tk.Button(master=frame2, text='Add', command=add_to_list)\n",
    "entry_btn.grid(row=0, column=1)\n",
    "\n",
    "# Hold all the text values added\n",
    "text_list = tk.Listbox(master=frame2)\n",
    "text_list.grid(row=1, column=0, columnspan=2,\n",
    "               sticky=\"nsew\") # ew: East and Weast\n",
    "\n",
    "\n",
    "root.mainloop()"
   ]
  },
  {
   "cell_type": "markdown",
   "metadata": {},
   "source": [
    "![](./assets/imgs/second_tkinter.png)"
   ]
  },
  {
   "cell_type": "code",
   "execution_count": null,
   "metadata": {},
   "outputs": [],
   "source": []
  }
 ],
 "metadata": {
  "kernelspec": {
   "display_name": "Python 3",
   "language": "python",
   "name": "python3"
  },
  "language_info": {
   "codemirror_mode": {
    "name": "ipython",
    "version": 3
   },
   "file_extension": ".py",
   "mimetype": "text/x-python",
   "name": "python",
   "nbconvert_exporter": "python",
   "pygments_lexer": "ipython3",
   "version": "3.10.12"
  }
 },
 "nbformat": 4,
 "nbformat_minor": 2
}
