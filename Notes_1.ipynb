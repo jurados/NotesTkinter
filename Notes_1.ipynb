{
 "cells": [
  {
   "cell_type": "code",
   "execution_count": 2,
   "metadata": {},
   "outputs": [],
   "source": [
    "import tkinter as tk\n",
    "\n",
    "# Themes in tkinter\n",
    "from tkinter import ttk"
   ]
  },
  {
   "cell_type": "code",
   "execution_count": 3,
   "metadata": {},
   "outputs": [
    {
     "ename": "",
     "evalue": "",
     "output_type": "error",
     "traceback": [
      "\u001b[1;31mThe Kernel crashed while executing code in the current cell or a previous cell. \n",
      "\u001b[1;31mPlease review the code in the cell(s) to identify a possible cause of the failure. \n",
      "\u001b[1;31mClick <a href='https://aka.ms/vscodeJupyterKernelCrash'>here</a> for more info. \n",
      "\u001b[1;31mView Jupyter <a href='command:jupyter.viewOutput'>log</a> for further details."
     ]
    }
   ],
   "source": [
    "# Run a simple test to look at all is ok\n",
    "tk._test()"
   ]
  },
  {
   "cell_type": "markdown",
   "metadata": {},
   "source": [
    "Here we begin to define our main interface"
   ]
  },
  {
   "cell_type": "code",
   "execution_count": 11,
   "metadata": {},
   "outputs": [
    {
     "data": {
      "text/plain": [
       "''"
      ]
     },
     "execution_count": 11,
     "metadata": {},
     "output_type": "execute_result"
    }
   ],
   "source": [
    "root = tk.Tk()\n",
    "\n",
    "# Adding a title\n",
    "root.title(string=\"Simple Interface\")\n",
    "\n",
    "# Allow to the applycation keep running\n",
    "root.mainloop()"
   ]
  },
  {
   "cell_type": "markdown",
   "metadata": {},
   "source": [
    "The widget `label` allow us to write text"
   ]
  },
  {
   "cell_type": "code",
   "execution_count": 5,
   "metadata": {},
   "outputs": [],
   "source": [
    "# Adding a label\n",
    "lbl = tk.Label(master=root,\n",
    "                text='Label 1',\n",
    "                background= 'lightgreen', # Change the background color\n",
    "                font='calibri',\n",
    "                wraplength=500,\n",
    "                padx=20,\n",
    "                pady=20) \n",
    "lbl.grid(row=0, column=0) # indicates the position\n"
   ]
  },
  {
   "cell_type": "markdown",
   "metadata": {},
   "source": [
    "The widget `Entry`"
   ]
  },
  {
   "cell_type": "code",
   "execution_count": 8,
   "metadata": {},
   "outputs": [],
   "source": [
    "entry = tk.Entry(master=root)\n",
    "entry.insert(index=0, string='Put some text here!')\n",
    "entry.config (state='disabled')"
   ]
  },
  {
   "cell_type": "markdown",
   "metadata": {},
   "source": [
    "The widget `Button`"
   ]
  },
  {
   "cell_type": "code",
   "execution_count": 12,
   "metadata": {},
   "outputs": [],
   "source": [
    "tk.Button(master=root,text='Click Me!', relief='raised').pack()\n",
    "tk.Button(master=root,text='Click Me!', relief='sunken').pack()\n",
    "tk.Button(master=root,text='Click Me!', relief='flat').pack()\n",
    "tk.Button(master=root,text='Click Me!', relief='ridge').pack()\n",
    "tk.Button(master=root,text='Click Me!', relief='groove').pack()\n",
    "tk.Button(master=root,text='Click Me!', relief='solid').pack()"
   ]
  },
  {
   "cell_type": "code",
   "execution_count": null,
   "metadata": {},
   "outputs": [],
   "source": [
    "# Create a botton\n",
    "btn = tk.Button(master=root,\n",
    "                 text='Button 1', # Text on the button\n",
    "                 command=on_click_label) # Apply a function over this button\n",
    "btn.grid(row=0, column=1) # Select the localization of button"
   ]
  },
  {
   "cell_type": "markdown",
   "metadata": {},
   "source": [
    "The `Check-Button` widget"
   ]
  },
  {
   "cell_type": "code",
   "execution_count": 2,
   "metadata": {},
   "outputs": [],
   "source": [
    "root = tk.Tk()\n",
    "root.title('The Checkbutton Widget')\n",
    "root.minsize(350,150) # Selecting the initial window size.\n",
    "\n",
    "tk.Label(master=root, text='Slect Your Best Fruit').pack()\n",
    "\n",
    "chk_btn = tk.Checkbutton(master=root, text='Mango').pack()\n",
    "chk_btn = tk.Checkbutton(master=root, text='Banana').pack()\n",
    "chk_btn = tk.Checkbutton(master=root, text='Apple').pack()\n",
    "chk_btn = tk.Checkbutton(master=root, text='GrapeFruit', state='disabled').pack()\n",
    "\n",
    "root.mainloop()"
   ]
  },
  {
   "cell_type": "markdown",
   "metadata": {},
   "source": [
    "![](./assets/imgs/checkbutton_widget.png)"
   ]
  },
  {
   "cell_type": "markdown",
   "metadata": {},
   "source": [
    "The `Radio-Button` widget"
   ]
  },
  {
   "cell_type": "code",
   "execution_count": 7,
   "metadata": {},
   "outputs": [],
   "source": [
    "root = tk.Tk()\n",
    "root.title('The Radio-Button Widget')\n",
    "root.minsize(350,150) # Selecting the initial window size.\n",
    "\n",
    "tk.Radiobutton(master=root, text='Radio Button', value=1).pack()\n",
    "\n",
    "for text, value in [('apple',1), ('Banana', 2), ('Grape', 3), ('Strawberry',4)]:\n",
    "    tk.Radiobutton(master=root, text=text, value=value,\n",
    "                   indicatoron=0).pack() # Show an indicator of what the button looks like\n",
    "\n",
    "root.mainloop()"
   ]
  },
  {
   "cell_type": "markdown",
   "metadata": {},
   "source": [
    "The `Canvas` widget"
   ]
  },
  {
   "cell_type": "code",
   "execution_count": 25,
   "metadata": {},
   "outputs": [],
   "source": [
    "root = tk.Tk()\n",
    "root.title('The Canvas Widget')\n",
    "root.minsize(350,150)\n",
    "\n",
    "canvas = tk.Canvas(master=root, \n",
    "                   bg='blue',\n",
    "                   height=500,width=500)\n",
    "\n",
    "rect = 10,10, 100,50 # Rectanglue\n",
    "canvas.create_rectangle(rect,fill='green')\n",
    "\n",
    "sqr = 10,10, 50,50 # Square\n",
    "canvas.create_rectangle(sqr,fill='orange')\n",
    "\n",
    "line = 20,20, 150,250, 100,300\n",
    "canvas.create_line(line,fill='red')\n",
    "\n",
    "oval = 30,30, 200,200\n",
    "canvas.create_oval(oval,fill='gray')\n",
    "\n",
    "coord = 50,50, 120,250\n",
    "canvas.create_arc(coord, start=0, extent=150, fill='purple')\n",
    "\n",
    "pol = 45,10, 200,350, 100,240\n",
    "canvas.create_polygon(pol, fill='pink')\n",
    "\n",
    "canvas.pack()\n",
    "root.mainloop()"
   ]
  },
  {
   "cell_type": "code",
   "execution_count": null,
   "metadata": {},
   "outputs": [],
   "source": [
    "root = tk.Tk()\n",
    "root.title('The Canvas Widget')\n",
    "root.minsize(350,150)\n",
    "\n",
    "root.mainloop()"
   ]
  },
  {
   "cell_type": "markdown",
   "metadata": {},
   "source": [
    "Now we will crate a Frame. it just a container allows us to hold different widgets and allows us organize our layout"
   ]
  },
  {
   "cell_type": "markdown",
   "metadata": {},
   "source": [
    "We can create the function and used them for our interface"
   ]
  },
  {
   "cell_type": "code",
   "execution_count": 4,
   "metadata": {},
   "outputs": [],
   "source": [
    "def on_click():\n",
    "    # Print \"Testing\" on the terminal when we make a click\n",
    "    return print('Testing')\n",
    "\n",
    "def on_click_label():\n",
    "    # Change the text on the label\n",
    "    return lbl.config(text='Button clicked!!')"
   ]
  },
  {
   "cell_type": "code",
   "execution_count": 3,
   "metadata": {},
   "outputs": [],
   "source": [
    "def add_to_list():\n",
    "    text = entry.get()\n",
    "    if text:\n",
    "        text_list.insert(tk.END,text)\n",
    "        entry.delete(first=0, last=tk.END)"
   ]
  },
  {
   "cell_type": "code",
   "execution_count": 20,
   "metadata": {},
   "outputs": [],
   "source": [
    "root = tk.Tk()\n",
    "\n",
    "# Adding a title\n",
    "root.title(string=\"Adding Texts\")\n",
    "\n",
    "# Configure the window\n",
    "root.columnconfigure(index=0, weight=1) \n",
    "root.columnconfigure(index=1, weight=2) \n",
    "root.rowconfigure(index=0, weight=1)\n",
    "\n",
    "# Create a frame\n",
    "frame = ttk.Frame(master=root)\n",
    "frame.grid(row=0, column=0, sticky=\"nsew\", # nsew: North, South, East and West\n",
    "           padx=5, pady=5) \n",
    "\n",
    "# Resizes the window\n",
    "frame.columnconfigure(index=0, weight=1)\n",
    "frame.rowconfigure(index=1, weight=1)\n",
    "\n",
    "# Text entry\n",
    "entry = ttk.Entry(master=frame)\n",
    "entry.grid(row=0, column=0, sticky='ew') # in the same position of our frame\n",
    "\n",
    "# Add events based on keywords  \n",
    "entry.bind(sequence=\"<Return>\",func=lambda event:add_to_list()) \n",
    "\n",
    "entry_btn = ttk.Button(master=frame, text='Add', command=add_to_list)\n",
    "entry_btn.grid(row=0, column=1)\n",
    "\n",
    "# Hold all the text values added\n",
    "text_list = tk.Listbox(master=frame)\n",
    "text_list.grid(row=1, column=0, columnspan=2,\n",
    "               sticky=\"nsew\") # ew: East and Weast\n",
    "\n",
    "# Create a frame\n",
    "frame2 = tk.Frame(master=root)\n",
    "frame2.grid(row=0, column=1, sticky=\"nsew\", # nsew: North, South, East and West\n",
    "            padx=5, pady=5 ) \n",
    "\n",
    "# Resizes the window\n",
    "frame2.columnconfigure(index=0, weight=1)\n",
    "frame2.rowconfigure(index=1, weight=1)\n",
    "\n",
    "# Text entry\n",
    "entry = tk.Entry(master=frame2)\n",
    "entry.grid(row=0, column=0, sticky='ew') # in the same position of our frame2\n",
    "\n",
    "# Add events based on keywords  \n",
    "entry.bind(sequence=\"<Return>\",func=lambda event:add_to_list()) \n",
    "\n",
    "entry_btn = tk.Button(master=frame2, text='Add', command=add_to_list)\n",
    "entry_btn.grid(row=0, column=1)\n",
    "\n",
    "# Hold all the text values added\n",
    "text_list = tk.Listbox(master=frame2)\n",
    "text_list.grid(row=1, column=0, columnspan=2,\n",
    "               sticky=\"nsew\") # ew: East and Weast\n",
    "\n",
    "\n",
    "root.mainloop()"
   ]
  },
  {
   "cell_type": "markdown",
   "metadata": {},
   "source": [
    "![](./assets/imgs/second_tkinter.png)"
   ]
  },
  {
   "cell_type": "code",
   "execution_count": null,
   "metadata": {},
   "outputs": [],
   "source": []
  }
 ],
 "metadata": {
  "kernelspec": {
   "display_name": "Python 3",
   "language": "python",
   "name": "python3"
  },
  "language_info": {
   "codemirror_mode": {
    "name": "ipython",
    "version": 3
   },
   "file_extension": ".py",
   "mimetype": "text/x-python",
   "name": "python",
   "nbconvert_exporter": "python",
   "pygments_lexer": "ipython3",
   "version": "3.10.12"
  }
 },
 "nbformat": 4,
 "nbformat_minor": 2
}
