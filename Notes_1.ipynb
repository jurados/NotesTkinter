{
 "cells": [
  {
   "cell_type": "code",
   "execution_count": 19,
   "metadata": {},
   "outputs": [],
   "source": [
    "import tkinter as tk\n",
    "\n",
    "# Themes in tkinter\n",
    "from tkinter import ttk"
   ]
  },
  {
   "cell_type": "code",
   "execution_count": null,
   "metadata": {},
   "outputs": [],
   "source": [
    "# Run a simple test to look at all is ok\n",
    "tk._test()"
   ]
  },
  {
   "cell_type": "markdown",
   "metadata": {},
   "source": [
    "Here we begin to define our main interface"
   ]
  },
  {
   "cell_type": "code",
   "execution_count": 27,
   "metadata": {},
   "outputs": [
    {
     "data": {
      "text/plain": [
       "''"
      ]
     },
     "execution_count": 27,
     "metadata": {},
     "output_type": "execute_result"
    }
   ],
   "source": [
    "root = tk.Tk()\n",
    "\n",
    "# Adding a title\n",
    "root.title(string=\"Simple Interface\")"
   ]
  },
  {
   "cell_type": "markdown",
   "metadata": {},
   "source": [
    "We can create the function and used them for our interface"
   ]
  },
  {
   "cell_type": "code",
   "execution_count": 31,
   "metadata": {},
   "outputs": [],
   "source": [
    "def on_click():\n",
    "    # Print \"Testing\" on the terminal when we make a click\n",
    "    return print('Testing')\n",
    "\n",
    "def on_click_label():\n",
    "    # Change the text on the label\n",
    "    return lbl.config(text='Button clicked!!')"
   ]
  },
  {
   "cell_type": "code",
   "execution_count": null,
   "metadata": {},
   "outputs": [],
   "source": [
    "# Adding a label\n",
    "lbl = tk.Label(master=root,\n",
    "                text='Label 1')\n",
    "lbl.grid(row=0, column=0) # indicates the position\n",
    "\n",
    "# Create a botton\n",
    "btn = tk.Button(master=root,\n",
    "                 text='Button 1',\n",
    "                 command=on_click_label) # Apply a function over this button\n",
    "btn.grid(row=0, column=1)"
   ]
  },
  {
   "cell_type": "code",
   "execution_count": 30,
   "metadata": {},
   "outputs": [
    {
     "name": "stdout",
     "output_type": "stream",
     "text": [
      "Testing\n"
     ]
    }
   ],
   "source": [
    "root.mainloop()"
   ]
  },
  {
   "cell_type": "markdown",
   "metadata": {},
   "source": [
    "Now we will crate a Frame. it just a container allows us to hold different widgets and allows us organize our layout"
   ]
  },
  {
   "cell_type": "code",
   "execution_count": 3,
   "metadata": {},
   "outputs": [],
   "source": [
    "def add_to_list():\n",
    "    text = entry.get()\n",
    "    if text:\n",
    "        text_list.insert(tk.END,text)\n",
    "        entry.delete(first=0, last=tk.END)"
   ]
  },
  {
   "cell_type": "code",
   "execution_count": 20,
   "metadata": {},
   "outputs": [],
   "source": [
    "root = tk.Tk()\n",
    "\n",
    "# Adding a title\n",
    "root.title(string=\"Adding Texts\")\n",
    "\n",
    "# Configure the window\n",
    "root.columnconfigure(index=0, weight=1) \n",
    "root.columnconfigure(index=1, weight=2) \n",
    "root.rowconfigure(index=0, weight=1)\n",
    "\n",
    "# Create a frame\n",
    "frame = ttk.Frame(master=root)\n",
    "frame.grid(row=0, column=0, sticky=\"nsew\", # nsew: North, South, East and West\n",
    "           padx=5, pady=5) \n",
    "\n",
    "# Resizes the window\n",
    "frame.columnconfigure(index=0, weight=1)\n",
    "frame.rowconfigure(index=1, weight=1)\n",
    "\n",
    "# Text entry\n",
    "entry = ttk.Entry(master=frame)\n",
    "entry.grid(row=0, column=0, sticky='ew') # in the same position of our frame\n",
    "\n",
    "# Add events based on keywords  \n",
    "entry.bind(sequence=\"<Return>\",func=lambda event:add_to_list()) \n",
    "\n",
    "entry_btn = ttk.Button(master=frame, text='Add', command=add_to_list)\n",
    "entry_btn.grid(row=0, column=1)\n",
    "\n",
    "# Hold all the text values added\n",
    "text_list = tk.Listbox(master=frame)\n",
    "text_list.grid(row=1, column=0, columnspan=2,\n",
    "               sticky=\"nsew\") # ew: East and Weast\n",
    "\n",
    "# Create a frame\n",
    "frame2 = tk.Frame(master=root)\n",
    "frame2.grid(row=0, column=1, sticky=\"nsew\", # nsew: North, South, East and West\n",
    "            padx=5, pady=5 ) \n",
    "\n",
    "# Resizes the window\n",
    "frame2.columnconfigure(index=0, weight=1)\n",
    "frame2.rowconfigure(index=1, weight=1)\n",
    "\n",
    "# Text entry\n",
    "entry = tk.Entry(master=frame2)\n",
    "entry.grid(row=0, column=0, sticky='ew') # in the same position of our frame2\n",
    "\n",
    "# Add events based on keywords  \n",
    "entry.bind(sequence=\"<Return>\",func=lambda event:add_to_list()) \n",
    "\n",
    "entry_btn = tk.Button(master=frame2, text='Add', command=add_to_list)\n",
    "entry_btn.grid(row=0, column=1)\n",
    "\n",
    "# Hold all the text values added\n",
    "text_list = tk.Listbox(master=frame2)\n",
    "text_list.grid(row=1, column=0, columnspan=2,\n",
    "               sticky=\"nsew\") # ew: East and Weast\n",
    "\n",
    "\n",
    "root.mainloop()"
   ]
  },
  {
   "cell_type": "markdown",
   "metadata": {},
   "source": [
    "![](./assets/imgs/second_tkinter.png)"
   ]
  },
  {
   "cell_type": "code",
   "execution_count": null,
   "metadata": {},
   "outputs": [],
   "source": []
  }
 ],
 "metadata": {
  "kernelspec": {
   "display_name": "Python 3",
   "language": "python",
   "name": "python3"
  },
  "language_info": {
   "codemirror_mode": {
    "name": "ipython",
    "version": 3
   },
   "file_extension": ".py",
   "mimetype": "text/x-python",
   "name": "python",
   "nbconvert_exporter": "python",
   "pygments_lexer": "ipython3",
   "version": "3.10.12"
  }
 },
 "nbformat": 4,
 "nbformat_minor": 2
}
